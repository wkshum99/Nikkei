{
 "cells": [
  {
   "cell_type": "code",
   "execution_count": 24,
   "metadata": {},
   "outputs": [],
   "source": [
    "import cv2\n",
    "import matplotlib.pyplot as plt\n",
    "from matplotlib import patches\n",
    "import sys"
   ]
  },
  {
   "cell_type": "code",
   "execution_count": 25,
   "metadata": {},
   "outputs": [],
   "source": [
    "cascade = cv2.CascadeClassifier('haarcascade_frontalface_default.xml')\n",
    "img = cv2.imread('photo.jpg')\n",
    "gray = cv2.cvtColor(img, cv2.COLOR_BGR2GRAY)"
   ]
  },
  {
   "cell_type": "code",
   "execution_count": 26,
   "metadata": {},
   "outputs": [],
   "source": [
    "faces = cascade.detectMultiScale(gray, scaleFactor=1.5) "
   ]
  },
  {
   "cell_type": "code",
   "execution_count": 27,
   "metadata": {},
   "outputs": [],
   "source": [
    "#for (x, y, w, h) in faces:\n",
    "#    cv2.rectangle(img, (x, y), (x+w, y+h), (0, 0, 255))"
   ]
  },
  {
   "cell_type": "code",
   "execution_count": 28,
   "metadata": {},
   "outputs": [],
   "source": [
    "# Create figure and axes\n",
    "#fig, ax = plt.subplots(1,figsize=(20, 10))\n",
    "\n",
    "# Show Image\n",
    "#color = cv2.cvtColor(img, cv2.COLOR_BGR2RGB)\n",
    "#ax.imshow(color)\n",
    "i = 1\n",
    "# Create a Rectangle patch\n",
    "for (x, y, w, h) in faces:\n",
    "    clone = img.copy()\n",
    "    clone = clone[y:y+h, x:x+w]\n",
    "    #cv2.rectangle(img, (x, y), (x+w, y+h), (0, 0, 255))\n",
    "    try:\n",
    "        cv2.imwrite(\"results\\\\face\"+'{0:04d}'.format(i)+\".jpg\", clone)\n",
    "    except:\n",
    "        print (\"Unexpected error: \" + sys.exc_info()[0])\n",
    "        raise\n",
    "    i += 1\n",
    "    #cv2.waitKey(0) \n",
    "    #cv2.destroyAllWindows()\n",
    "    #rect = patches.Rectangle((x,y),w,h,linewidth=1,edgecolor='r',facecolor='none')\n",
    "    #ax.add_patch(rect)\n",
    "\n",
    "# Add the patch to the Axes\n",
    "#ax.add_patch(rect)\n"
   ]
  },
  {
   "cell_type": "code",
   "execution_count": 29,
   "metadata": {},
   "outputs": [],
   "source": [
    "#? cv2.imshow"
   ]
  },
  {
   "cell_type": "code",
   "execution_count": 30,
   "metadata": {},
   "outputs": [],
   "source": [
    "#cv2.imshow('test', img) \n",
    "#cv2.waitKey(0) \n",
    "#cv2.destroyAllWindows()"
   ]
  }
 ],
 "metadata": {
  "kernelspec": {
   "display_name": "Python 3",
   "language": "python",
   "name": "python3"
  },
  "language_info": {
   "codemirror_mode": {
    "name": "ipython",
    "version": 3
   },
   "file_extension": ".py",
   "mimetype": "text/x-python",
   "name": "python",
   "nbconvert_exporter": "python",
   "pygments_lexer": "ipython3",
   "version": "3.6.8"
  }
 },
 "nbformat": 4,
 "nbformat_minor": 2
}
